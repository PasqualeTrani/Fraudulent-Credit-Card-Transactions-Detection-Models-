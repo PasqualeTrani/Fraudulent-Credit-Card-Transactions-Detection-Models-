{
 "cells": [
  {
   "cell_type": "markdown",
   "id": "aed7f51e",
   "metadata": {},
   "source": [
    "# Fraudulent Credit Card Transactions Detection Models "
   ]
  },
  {
   "cell_type": "markdown",
   "id": "1b5759d5",
   "metadata": {},
   "source": [
    "In this project some machine learning models are trained for classifying some credit card transactions into two classes: fraud or not fraud. The dataset that is considered is pretty huge, since it contains 1 million examples, and it is also unbalanced, since the vast majority of the considered transactions are not a fraud. As we know when we have a binary classification problem and we are dealing with an unbalanced dataset the accuracy of the model is not a good metric.\n",
    "\n",
    "Thus, for these reasons the project is organized as follows: <br>\n",
    "\n",
    "1. First of all a very simple EDA of the dataset is provided. The latter is done on the entire dataset. <br>\n",
    "2. After that a new dataset, called df_model, is defined. The latter contains the first 5000 non fraudulent transaction and the first 5000 fraudulent ones. In this way we work around both the computational problem, due to the gigantic dataset, and the imbalance problem. Then some machine learning models are trained on this df_model dataset to predict if a transaction is fraudulent or not. Before that, a cross validation procedure is provided, thanks to RandomizedSearchCV, in order to tune the hyperparameters of all the considered models. These models are: <br>\n",
    "* `K-Nearest Neighbors Classifier(KNN)` <br>\n",
    "* `Decision Tree Classifier (DT)` <br>\n",
    "* `Support Vector Classifier (SVC)` <br>\n",
    "* `Random Forest Classifier(RF)`<br><br> \n",
    "3. The models are tested on the test set and the best model is choosen. It results to be DT. \n",
    "4. A third dataset, called df_tot, is created. The latter is builded by adding some randomly selected data from the original dataframe, and it contains 2 millions examples, 1 million of fraudulent transaction and 1 million of not fraudulent ones. After that, the DT model, which gave us the best performance on df_model, is trained on the a train dataset builded starting from df_tot, and then the model is tested, showing an extremely high performance.  \n",
    "\n",
    "Here it is a prospectus of the variables into the dataset:\n",
    "\n",
    "|   VARIABLE NAME \t|   VARIABLE DESCRIPTION\t|   VARIABLE TYPE\t| VALUES  \t|\n",
    "|---\t|---\t|---\t|---\t|\n",
    "|  distance_from_home \t|   the distance from home where the transaction happened.\t|   continuous numerical\t|   \t|\n",
    "|   distance_from_last_transaction\t|   the distance from last transaction happened\t|   continuous numerical\t|   \t|\n",
    "|   ratio_to_median_purchase_price\t|   Ratio of purchased price transaction to median purchase price\t|  continuous numerical \t|   \t|\n",
    "|   repeat_retailer\t\t|  Is the transaction happened from same retailer \t|  binary\t|  1: yes <br> 0: no|\n",
    "|   used_chip\t\t|   Is the transaction through chip (credit card)\t|   binary\t|   1: yes <br> 0: no|\n",
    "|   used_pin_number\t|    Is the transaction happened by using PIN number\t|   binary\t| 1: yes <br> 0: no  \t|\n",
    "|   online_order\t\t|   Is the transaction an online order\t|   binary\t|   1: yes <br> 0: no\t|\n",
    "|  fraud \t|   Is the transaction fraudulent\t|   binary\t|   1: yes <br> 0: no\t|"
   ]
  },
  {
   "cell_type": "code",
   "execution_count": 1,
   "id": "ca5c4023",
   "metadata": {},
   "outputs": [],
   "source": [
    "import pandas as pd \n",
    "import numpy as np \n",
    "import matplotlib.pyplot as plt \n",
    "import seaborn as sns \n",
    "\n",
    "# ML standard libraries\n",
    "from sklearn.preprocessing import MinMaxScaler as scaler \n",
    "from sklearn.model_selection import train_test_split \n",
    "from sklearn.metrics import accuracy_score \n",
    "from sklearn.metrics import classification_report\n",
    "from sklearn.metrics import confusion_matrix as CF\n",
    "from sklearn.model_selection import RandomizedSearchCV as RSCV \n",
    "\n",
    "# Models \n",
    "from sklearn.neighbors import KNeighborsClassifier as KNN \n",
    "from sklearn.tree import DecisionTreeClassifier as DT \n",
    "from sklearn.svm import SVC \n",
    "from sklearn.ensemble import RandomForestClassifier as RF \n",
    "\n",
    "import warnings \n",
    "warnings.filterwarnings('ignore')"
   ]
  },
  {
   "cell_type": "code",
   "execution_count": 2,
   "id": "70cadd57",
   "metadata": {},
   "outputs": [
    {
     "data": {
      "text/html": [
       "<div>\n",
       "<style scoped>\n",
       "    .dataframe tbody tr th:only-of-type {\n",
       "        vertical-align: middle;\n",
       "    }\n",
       "\n",
       "    .dataframe tbody tr th {\n",
       "        vertical-align: top;\n",
       "    }\n",
       "\n",
       "    .dataframe thead th {\n",
       "        text-align: right;\n",
       "    }\n",
       "</style>\n",
       "<table border=\"1\" class=\"dataframe\">\n",
       "  <thead>\n",
       "    <tr style=\"text-align: right;\">\n",
       "      <th></th>\n",
       "      <th>distance_from_home</th>\n",
       "      <th>distance_from_last_transaction</th>\n",
       "      <th>ratio_to_median_purchase_price</th>\n",
       "      <th>repeat_retailer</th>\n",
       "      <th>used_chip</th>\n",
       "      <th>used_pin_number</th>\n",
       "      <th>online_order</th>\n",
       "      <th>fraud</th>\n",
       "    </tr>\n",
       "  </thead>\n",
       "  <tbody>\n",
       "    <tr>\n",
       "      <th>0</th>\n",
       "      <td>57.877857</td>\n",
       "      <td>0.311140</td>\n",
       "      <td>1.945940</td>\n",
       "      <td>1.0</td>\n",
       "      <td>1.0</td>\n",
       "      <td>0.0</td>\n",
       "      <td>0.0</td>\n",
       "      <td>0.0</td>\n",
       "    </tr>\n",
       "    <tr>\n",
       "      <th>1</th>\n",
       "      <td>10.829943</td>\n",
       "      <td>0.175592</td>\n",
       "      <td>1.294219</td>\n",
       "      <td>1.0</td>\n",
       "      <td>0.0</td>\n",
       "      <td>0.0</td>\n",
       "      <td>0.0</td>\n",
       "      <td>0.0</td>\n",
       "    </tr>\n",
       "    <tr>\n",
       "      <th>2</th>\n",
       "      <td>5.091079</td>\n",
       "      <td>0.805153</td>\n",
       "      <td>0.427715</td>\n",
       "      <td>1.0</td>\n",
       "      <td>0.0</td>\n",
       "      <td>0.0</td>\n",
       "      <td>1.0</td>\n",
       "      <td>0.0</td>\n",
       "    </tr>\n",
       "    <tr>\n",
       "      <th>3</th>\n",
       "      <td>2.247564</td>\n",
       "      <td>5.600044</td>\n",
       "      <td>0.362663</td>\n",
       "      <td>1.0</td>\n",
       "      <td>1.0</td>\n",
       "      <td>0.0</td>\n",
       "      <td>1.0</td>\n",
       "      <td>0.0</td>\n",
       "    </tr>\n",
       "    <tr>\n",
       "      <th>4</th>\n",
       "      <td>44.190936</td>\n",
       "      <td>0.566486</td>\n",
       "      <td>2.222767</td>\n",
       "      <td>1.0</td>\n",
       "      <td>1.0</td>\n",
       "      <td>0.0</td>\n",
       "      <td>1.0</td>\n",
       "      <td>0.0</td>\n",
       "    </tr>\n",
       "    <tr>\n",
       "      <th>...</th>\n",
       "      <td>...</td>\n",
       "      <td>...</td>\n",
       "      <td>...</td>\n",
       "      <td>...</td>\n",
       "      <td>...</td>\n",
       "      <td>...</td>\n",
       "      <td>...</td>\n",
       "      <td>...</td>\n",
       "    </tr>\n",
       "    <tr>\n",
       "      <th>999995</th>\n",
       "      <td>2.207101</td>\n",
       "      <td>0.112651</td>\n",
       "      <td>1.626798</td>\n",
       "      <td>1.0</td>\n",
       "      <td>1.0</td>\n",
       "      <td>0.0</td>\n",
       "      <td>0.0</td>\n",
       "      <td>0.0</td>\n",
       "    </tr>\n",
       "    <tr>\n",
       "      <th>999996</th>\n",
       "      <td>19.872726</td>\n",
       "      <td>2.683904</td>\n",
       "      <td>2.778303</td>\n",
       "      <td>1.0</td>\n",
       "      <td>1.0</td>\n",
       "      <td>0.0</td>\n",
       "      <td>0.0</td>\n",
       "      <td>0.0</td>\n",
       "    </tr>\n",
       "    <tr>\n",
       "      <th>999997</th>\n",
       "      <td>2.914857</td>\n",
       "      <td>1.472687</td>\n",
       "      <td>0.218075</td>\n",
       "      <td>1.0</td>\n",
       "      <td>1.0</td>\n",
       "      <td>0.0</td>\n",
       "      <td>1.0</td>\n",
       "      <td>0.0</td>\n",
       "    </tr>\n",
       "    <tr>\n",
       "      <th>999998</th>\n",
       "      <td>4.258729</td>\n",
       "      <td>0.242023</td>\n",
       "      <td>0.475822</td>\n",
       "      <td>1.0</td>\n",
       "      <td>0.0</td>\n",
       "      <td>0.0</td>\n",
       "      <td>1.0</td>\n",
       "      <td>0.0</td>\n",
       "    </tr>\n",
       "    <tr>\n",
       "      <th>999999</th>\n",
       "      <td>58.108125</td>\n",
       "      <td>0.318110</td>\n",
       "      <td>0.386920</td>\n",
       "      <td>1.0</td>\n",
       "      <td>1.0</td>\n",
       "      <td>0.0</td>\n",
       "      <td>1.0</td>\n",
       "      <td>0.0</td>\n",
       "    </tr>\n",
       "  </tbody>\n",
       "</table>\n",
       "<p>1000000 rows × 8 columns</p>\n",
       "</div>"
      ],
      "text/plain": [
       "        distance_from_home  distance_from_last_transaction  \\\n",
       "0                57.877857                        0.311140   \n",
       "1                10.829943                        0.175592   \n",
       "2                 5.091079                        0.805153   \n",
       "3                 2.247564                        5.600044   \n",
       "4                44.190936                        0.566486   \n",
       "...                    ...                             ...   \n",
       "999995            2.207101                        0.112651   \n",
       "999996           19.872726                        2.683904   \n",
       "999997            2.914857                        1.472687   \n",
       "999998            4.258729                        0.242023   \n",
       "999999           58.108125                        0.318110   \n",
       "\n",
       "        ratio_to_median_purchase_price  repeat_retailer  used_chip  \\\n",
       "0                             1.945940              1.0        1.0   \n",
       "1                             1.294219              1.0        0.0   \n",
       "2                             0.427715              1.0        0.0   \n",
       "3                             0.362663              1.0        1.0   \n",
       "4                             2.222767              1.0        1.0   \n",
       "...                                ...              ...        ...   \n",
       "999995                        1.626798              1.0        1.0   \n",
       "999996                        2.778303              1.0        1.0   \n",
       "999997                        0.218075              1.0        1.0   \n",
       "999998                        0.475822              1.0        0.0   \n",
       "999999                        0.386920              1.0        1.0   \n",
       "\n",
       "        used_pin_number  online_order  fraud  \n",
       "0                   0.0           0.0    0.0  \n",
       "1                   0.0           0.0    0.0  \n",
       "2                   0.0           1.0    0.0  \n",
       "3                   0.0           1.0    0.0  \n",
       "4                   0.0           1.0    0.0  \n",
       "...                 ...           ...    ...  \n",
       "999995              0.0           0.0    0.0  \n",
       "999996              0.0           0.0    0.0  \n",
       "999997              0.0           1.0    0.0  \n",
       "999998              0.0           1.0    0.0  \n",
       "999999              0.0           1.0    0.0  \n",
       "\n",
       "[1000000 rows x 8 columns]"
      ]
     },
     "execution_count": 2,
     "metadata": {},
     "output_type": "execute_result"
    }
   ],
   "source": [
    "# I load the dataset\n",
    "df=pd.read_csv('card_transdata.csv')\n",
    "df"
   ]
  },
  {
   "cell_type": "code",
   "execution_count": 3,
   "id": "9bf885b5",
   "metadata": {},
   "outputs": [
    {
     "name": "stdout",
     "output_type": "stream",
     "text": [
      "<class 'pandas.core.frame.DataFrame'>\n",
      "RangeIndex: 1000000 entries, 0 to 999999\n",
      "Data columns (total 8 columns):\n",
      " #   Column                          Non-Null Count    Dtype  \n",
      "---  ------                          --------------    -----  \n",
      " 0   distance_from_home              1000000 non-null  float64\n",
      " 1   distance_from_last_transaction  1000000 non-null  float64\n",
      " 2   ratio_to_median_purchase_price  1000000 non-null  float64\n",
      " 3   repeat_retailer                 1000000 non-null  float64\n",
      " 4   used_chip                       1000000 non-null  float64\n",
      " 5   used_pin_number                 1000000 non-null  float64\n",
      " 6   online_order                    1000000 non-null  float64\n",
      " 7   fraud                           1000000 non-null  float64\n",
      "dtypes: float64(8)\n",
      "memory usage: 61.0 MB\n"
     ]
    }
   ],
   "source": [
    "df.info()"
   ]
  },
  {
   "cell_type": "markdown",
   "id": "b70eafde",
   "metadata": {},
   "source": [
    "# EDA"
   ]
  },
  {
   "cell_type": "markdown",
   "id": "b80a12cf",
   "metadata": {},
   "source": [
    "First of all since all the variables, even the binary ones, are encoded as numerical I compute the correlation matrix between all of them:"
   ]
  },
  {
   "cell_type": "code",
   "execution_count": 4,
   "id": "a3bcd6b5",
   "metadata": {},
   "outputs": [
    {
     "data": {
      "image/png": "[encoded data removed]",
      "text/plain": [
       "<Figure size 1440x576 with 2 Axes>"
      ]
     },
     "metadata": {
      "needs_background": "light"
     },
     "output_type": "display_data"
    }
   ],
   "source": [
    "plt.figure(figsize=(20,8))\n",
    "cmap = sns.diverging_palette(250, 15, as_cmap=True)\n",
    "sns.heatmap(df.corr(),\n",
    "            annot=True, vmax=.7, center=0, cmap=cmap,\n",
    "            square=True, linewidths=.7, cbar_kws={\"shrink\": .7})\n",
    "\n",
    "plt.title('Correlation Matrix Between Variables')\n",
    "plt.xticks(rotation = 45, ha = 'right')\n",
    "plt.show()"
   ]
  },
  {
   "cell_type": "markdown",
   "id": "5f1cd390",
   "metadata": {},
   "source": [
    "### As we can see from the correlation matrix there are no strong linear correlations between the variables. However the label, i.e. the 'fraud' variable, has a slight positive linear correlation with the variables 'distance_from_home', 'distance_from_last_transaction' and  'online_order', and a bigger one with the variable 'ratio_to_median_purchase_price'. Therefore, we might expect that these variables are the most important ones into the classification of a fraudulent transaction. \n",
    "\n",
    "Let us now rename some columns values in order to make the plot visualization cleaner:"
   ]
  },
  {
   "cell_type": "code",
   "execution_count": 5,
   "id": "80dd026d",
   "metadata": {},
   "outputs": [],
   "source": [
    "# I rename some columns values in order to make the plot visualization cleaner \n",
    "D= {'repeat_retailer':{0.0: 'no', 1.0:'yes'}, 'used_chip':{0.0: 'no', 1.0:'yes'},\n",
    "       'used_pin_number':{0.0: 'no', 1.0:'yes'}, 'online_order':{0.0: 'no', 1.0:'yes'}, \n",
    "    'fraud':{0.0: 'no', 1.0:'yes'}}\n",
    "\n",
    "for column in list(D.keys()):\n",
    "    df[column] = df[column].map(D[column])"
   ]
  },
  {
   "cell_type": "markdown",
   "id": "08b5ddd2",
   "metadata": {},
   "source": [
    "Let us now see a pie plot for the label, i.e. the 'fraud' variable:"
   ]
  },
  {
   "cell_type": "code",
   "execution_count": 6,
   "id": "ac243d0d",
   "metadata": {},
   "outputs": [
    {
     "data": {
      "image/png": "[encoded data removed]",
      "text/plain": [
       "<Figure size 1008x576 with 1 Axes>"
      ]
     },
     "metadata": {},
     "output_type": "display_data"
    }
   ],
   "source": [
    "plt.figure(figsize=(14,8))\n",
    "plt.pie(df['fraud'].value_counts(),\n",
    "       labels=df['fraud'].value_counts().index, \n",
    "       autopct='%.1f%%', \n",
    "       colors=sns.color_palette('gist_earth'))\n",
    "plt.title('Fraud Pie Chart')\n",
    "plt.show()"
   ]
  },
  {
   "cell_type": "markdown",
   "id": "8bb11261",
   "metadata": {},
   "source": [
    "### Thus, the vast majority of the transactions are not fraudulent. Consequentially, for evaluating the performance of a model the accuracy is not a good metric, because we have a strong imbalance between the two classes. Hence, in the prediction section we will define another dataset called df_model, which will be much smaller and balanced, in order to preserve accuracy as the evaluation metric for our models. \n",
    "\n",
    "Then we also plot some pie plots for the other binary variables:"
   ]
  },
  {
   "cell_type": "code",
   "execution_count": 7,
   "id": "d5407937",
   "metadata": {
    "scrolled": false
   },
   "outputs": [
    {
     "data": {
      "image/png": "[encoded data removed]",
      "text/plain": [
       "<Figure size 1008x864 with 4 Axes>"
      ]
     },
     "metadata": {},
     "output_type": "display_data"
    }
   ],
   "source": [
    "cols=['repeat_retailer', 'used_chip','used_pin_number', 'online_order']\n",
    "palettes=['Set2', 'tab10', 'Set3', 'Set1']\n",
    "\n",
    "f, axes=plt.subplots(2,2, figsize=(14,12))\n",
    "for i,col in enumerate(cols):\n",
    "    plt.subplot(2,2,i+1)\n",
    "    plt.pie(df[col].value_counts() , \n",
    "           labels=df[col].value_counts().index,\n",
    "           autopct='%.1f%%', \n",
    "           colors=sns.color_palette(palettes[i]))\n",
    "    plt.title(col.split('_')[0].capitalize()+' '+col.split('_')[1].capitalize())\n",
    "plt.show()"
   ]
  },
  {
   "cell_type": "markdown",
   "id": "9ca868ed",
   "metadata": {},
   "source": [
    "Let us now see the distribution of the three continuous numerical variables:"
   ]
  },
  {
   "cell_type": "code",
   "execution_count": 8,
   "id": "4698b2ee",
   "metadata": {},
   "outputs": [
    {
     "data": {
      "image/png": "[encoded data removed]",
      "text/plain": [
       "<Figure size 1440x576 with 1 Axes>"
      ]
     },
     "metadata": {
      "needs_background": "light"
     },
     "output_type": "display_data"
    },
    {
     "data": {
      "image/png": "[encoded data removed]",
      "text/plain": [
       "<Figure size 1440x576 with 1 Axes>"
      ]
     },
     "metadata": {
      "needs_background": "light"
     },
     "output_type": "display_data"
    },
    {
     "data": {
      "image/png": "[encoded data removed]",
      "text/plain": [
       "<Figure size 1440x576 with 1 Axes>"
      ]
     },
     "metadata": {
      "needs_background": "light"
     },
     "output_type": "display_data"
    }
   ],
   "source": [
    "cols=['distance_from_home', 'distance_from_last_transaction', 'ratio_to_median_purchase_price']\n",
    "plt.figure(figsize=(20,8))\n",
    "sns.distplot(x=df[cols[0]], kde=False , color='blue', bins=3500)\n",
    "plt.xlim(0,200)\n",
    "plt.title('Distance from Home Distribituion');\n",
    "\n",
    "plt.figure(figsize=(20,8))\n",
    "sns.distplot(x=df[cols[1]], kde=False, color='green', bins=3500)\n",
    "plt.xlim(0,80)\n",
    "plt.title('Distance from Last Transaction Distribituion');\n",
    "\n",
    "plt.figure(figsize=(20,8))\n",
    "sns.distplot(x=df[cols[2]], kde=False, color='red', bins=1500)\n",
    "plt.xlim(0,30)\n",
    "plt.title('Ratio to Median Purchase Price Distribituion');"
   ]
  },
  {
   "cell_type": "markdown",
   "id": "fe384fd8",
   "metadata": {},
   "source": [
    "### Therefore, all of these distributions are essentially exponential distributions. \n",
    "\n",
    "Lastly, let us see how the avarage value of the continuous numerical variables, which have a positive linear correlation with the label 'fraud' according to the correlation matrix analysis, changes if the transaction is fraudulent or not:"
   ]
  },
  {
   "cell_type": "code",
   "execution_count": 9,
   "id": "7e2fafa6",
   "metadata": {},
   "outputs": [
    {
     "data": {
      "image/png": "[encoded data removed]",
      "text/plain": [
       "<Figure size 1440x576 with 1 Axes>"
      ]
     },
     "metadata": {
      "needs_background": "light"
     },
     "output_type": "display_data"
    }
   ],
   "source": [
    "df.groupby('fraud')[cols].mean().plot(kind='bar', title='Avarage Quantities vs Fraud',\n",
    "                   xlabel='Fraud', figsize=(20,8), rot=0)\n",
    "plt.ylabel('Avarage Quantities');"
   ]
  },
  {
   "cell_type": "markdown",
   "id": "2a10e3f6",
   "metadata": {},
   "source": [
    "### From this single plot it follows that the mean value of all these variables increases if the transaction is fraudulent, as we might expect from the correlation matrix analysis. "
   ]
  },
  {
   "cell_type": "markdown",
   "id": "598d68be",
   "metadata": {},
   "source": [
    "# ML models"
   ]
  },
  {
   "cell_type": "markdown",
   "id": "b385072c",
   "metadata": {},
   "source": [
    "Let us now train some machine learning models in order to classify a credit card transaction. We start by reconverting the binary values into 0 and 1 values:"
   ]
  },
  {
   "cell_type": "code",
   "execution_count": 10,
   "id": "3778aa5c",
   "metadata": {},
   "outputs": [],
   "source": [
    "# I reconvert the values  \n",
    "D= {'repeat_retailer':{'no':0, 'yes':1}, 'used_chip':{'no':0, 'yes':1},\n",
    "       'used_pin_number':{'no':0, 'yes':1}, 'online_order':{'no':0, 'yes':1}}\n",
    "\n",
    "for column in list(D.keys()):\n",
    "    df[column] = df[column].map(D[column])"
   ]
  },
  {
   "cell_type": "markdown",
   "id": "2845e09d",
   "metadata": {},
   "source": [
    "Then we define the dataframe df_model, which contains the first 5000 non fraudulent transactions and the first 5000 fraudulent ones. In this way we avoid both the computational and the imbalance problem:"
   ]
  },
  {
   "cell_type": "code",
   "execution_count": 11,
   "id": "4edd9930",
   "metadata": {},
   "outputs": [
    {
     "data": {
      "text/html": [
       "<div>\n",
       "<style scoped>\n",
       "    .dataframe tbody tr th:only-of-type {\n",
       "        vertical-align: middle;\n",
       "    }\n",
       "\n",
       "    .dataframe tbody tr th {\n",
       "        vertical-align: top;\n",
       "    }\n",
       "\n",
       "    .dataframe thead th {\n",
       "        text-align: right;\n",
       "    }\n",
       "</style>\n",
       "<table border=\"1\" class=\"dataframe\">\n",
       "  <thead>\n",
       "    <tr style=\"text-align: right;\">\n",
       "      <th></th>\n",
       "      <th>distance_from_home</th>\n",
       "      <th>distance_from_last_transaction</th>\n",
       "      <th>ratio_to_median_purchase_price</th>\n",
       "      <th>repeat_retailer</th>\n",
       "      <th>used_chip</th>\n",
       "      <th>used_pin_number</th>\n",
       "      <th>online_order</th>\n",
       "      <th>fraud</th>\n",
       "    </tr>\n",
       "  </thead>\n",
       "  <tbody>\n",
       "    <tr>\n",
       "      <th>0</th>\n",
       "      <td>57.877857</td>\n",
       "      <td>0.311140</td>\n",
       "      <td>1.945940</td>\n",
       "      <td>1</td>\n",
       "      <td>1</td>\n",
       "      <td>0</td>\n",
       "      <td>0</td>\n",
       "      <td>no</td>\n",
       "    </tr>\n",
       "    <tr>\n",
       "      <th>1</th>\n",
       "      <td>10.829943</td>\n",
       "      <td>0.175592</td>\n",
       "      <td>1.294219</td>\n",
       "      <td>1</td>\n",
       "      <td>0</td>\n",
       "      <td>0</td>\n",
       "      <td>0</td>\n",
       "      <td>no</td>\n",
       "    </tr>\n",
       "    <tr>\n",
       "      <th>2</th>\n",
       "      <td>5.091079</td>\n",
       "      <td>0.805153</td>\n",
       "      <td>0.427715</td>\n",
       "      <td>1</td>\n",
       "      <td>0</td>\n",
       "      <td>0</td>\n",
       "      <td>1</td>\n",
       "      <td>no</td>\n",
       "    </tr>\n",
       "    <tr>\n",
       "      <th>3</th>\n",
       "      <td>2.247564</td>\n",
       "      <td>5.600044</td>\n",
       "      <td>0.362663</td>\n",
       "      <td>1</td>\n",
       "      <td>1</td>\n",
       "      <td>0</td>\n",
       "      <td>1</td>\n",
       "      <td>no</td>\n",
       "    </tr>\n",
       "    <tr>\n",
       "      <th>4</th>\n",
       "      <td>44.190936</td>\n",
       "      <td>0.566486</td>\n",
       "      <td>2.222767</td>\n",
       "      <td>1</td>\n",
       "      <td>1</td>\n",
       "      <td>0</td>\n",
       "      <td>1</td>\n",
       "      <td>no</td>\n",
       "    </tr>\n",
       "    <tr>\n",
       "      <th>...</th>\n",
       "      <td>...</td>\n",
       "      <td>...</td>\n",
       "      <td>...</td>\n",
       "      <td>...</td>\n",
       "      <td>...</td>\n",
       "      <td>...</td>\n",
       "      <td>...</td>\n",
       "      <td>...</td>\n",
       "    </tr>\n",
       "    <tr>\n",
       "      <th>57908</th>\n",
       "      <td>56.637374</td>\n",
       "      <td>0.156493</td>\n",
       "      <td>5.634551</td>\n",
       "      <td>1</td>\n",
       "      <td>1</td>\n",
       "      <td>0</td>\n",
       "      <td>1</td>\n",
       "      <td>yes</td>\n",
       "    </tr>\n",
       "    <tr>\n",
       "      <th>57931</th>\n",
       "      <td>250.927770</td>\n",
       "      <td>0.696347</td>\n",
       "      <td>0.942289</td>\n",
       "      <td>1</td>\n",
       "      <td>0</td>\n",
       "      <td>0</td>\n",
       "      <td>1</td>\n",
       "      <td>yes</td>\n",
       "    </tr>\n",
       "    <tr>\n",
       "      <th>57962</th>\n",
       "      <td>0.661578</td>\n",
       "      <td>65.377620</td>\n",
       "      <td>1.207015</td>\n",
       "      <td>0</td>\n",
       "      <td>1</td>\n",
       "      <td>0</td>\n",
       "      <td>1</td>\n",
       "      <td>yes</td>\n",
       "    </tr>\n",
       "    <tr>\n",
       "      <th>57966</th>\n",
       "      <td>193.889343</td>\n",
       "      <td>1.275882</td>\n",
       "      <td>4.950638</td>\n",
       "      <td>1</td>\n",
       "      <td>1</td>\n",
       "      <td>0</td>\n",
       "      <td>1</td>\n",
       "      <td>yes</td>\n",
       "    </tr>\n",
       "    <tr>\n",
       "      <th>57969</th>\n",
       "      <td>0.414772</td>\n",
       "      <td>0.183273</td>\n",
       "      <td>9.094393</td>\n",
       "      <td>0</td>\n",
       "      <td>1</td>\n",
       "      <td>0</td>\n",
       "      <td>1</td>\n",
       "      <td>yes</td>\n",
       "    </tr>\n",
       "  </tbody>\n",
       "</table>\n",
       "<p>10000 rows × 8 columns</p>\n",
       "</div>"
      ],
      "text/plain": [
       "       distance_from_home  distance_from_last_transaction  \\\n",
       "0               57.877857                        0.311140   \n",
       "1               10.829943                        0.175592   \n",
       "2                5.091079                        0.805153   \n",
       "3                2.247564                        5.600044   \n",
       "4               44.190936                        0.566486   \n",
       "...                   ...                             ...   \n",
       "57908           56.637374                        0.156493   \n",
       "57931          250.927770                        0.696347   \n",
       "57962            0.661578                       65.377620   \n",
       "57966          193.889343                        1.275882   \n",
       "57969            0.414772                        0.183273   \n",
       "\n",
       "       ratio_to_median_purchase_price  repeat_retailer  used_chip  \\\n",
       "0                            1.945940                1          1   \n",
       "1                            1.294219                1          0   \n",
       "2                            0.427715                1          0   \n",
       "3                            0.362663                1          1   \n",
       "4                            2.222767                1          1   \n",
       "...                               ...              ...        ...   \n",
       "57908                        5.634551                1          1   \n",
       "57931                        0.942289                1          0   \n",
       "57962                        1.207015                0          1   \n",
       "57966                        4.950638                1          1   \n",
       "57969                        9.094393                0          1   \n",
       "\n",
       "       used_pin_number  online_order fraud  \n",
       "0                    0             0    no  \n",
       "1                    0             0    no  \n",
       "2                    0             1    no  \n",
       "3                    0             1    no  \n",
       "4                    0             1    no  \n",
       "...                ...           ...   ...  \n",
       "57908                0             1   yes  \n",
       "57931                0             1   yes  \n",
       "57962                0             1   yes  \n",
       "57966                0             1   yes  \n",
       "57969                0             1   yes  \n",
       "\n",
       "[10000 rows x 8 columns]"
      ]
     },
     "execution_count": 11,
     "metadata": {},
     "output_type": "execute_result"
    }
   ],
   "source": [
    "df_model=df[df.fraud=='no'].iloc[:5000].append(df[df.fraud=='yes'].iloc[:5000])\n",
    "df_model"
   ]
  },
  {
   "cell_type": "markdown",
   "id": "9dbe5019",
   "metadata": {},
   "source": [
    "Now let us create the dataset with the features (X) and the labels (y):"
   ]
  },
  {
   "cell_type": "code",
   "execution_count": 12,
   "id": "3d9254f7",
   "metadata": {},
   "outputs": [],
   "source": [
    "X=scaler().fit_transform(df_model.drop('fraud', axis=1)) # features\n",
    "y=df_model['fraud'].values  # labels "
   ]
  },
  {
   "cell_type": "code",
   "execution_count": 13,
   "id": "c13da421",
   "metadata": {},
   "outputs": [
    {
     "name": "stdout",
     "output_type": "stream",
     "text": [
      "(10000, 7) (10000,)\n"
     ]
    }
   ],
   "source": [
    "print(X.shape, y.shape)"
   ]
  },
  {
   "cell_type": "markdown",
   "id": "372840e2",
   "metadata": {},
   "source": [
    "Now we split the dataset into the training and the test set thanks to train_test_split:"
   ]
  },
  {
   "cell_type": "code",
   "execution_count": 14,
   "id": "0ea3526a",
   "metadata": {},
   "outputs": [],
   "source": [
    "# training-test splitting \n",
    "SEED=1\n",
    "X_train, X_test, y_train, y_test=train_test_split(X, y, test_size=0.2, random_state=SEED)"
   ]
  },
  {
   "cell_type": "markdown",
   "id": "1db709d6",
   "metadata": {},
   "source": [
    "Then we define two dictionaries 'models' and 'parameters', which contain the models and their hyperparameters that have to be tuned respectively."
   ]
  },
  {
   "cell_type": "code",
   "execution_count": 15,
   "id": "9374965a",
   "metadata": {},
   "outputs": [],
   "source": [
    "models={'KNN': KNN(), \n",
    "        'DT': DT(), \n",
    "        'SVC': SVC(), \n",
    "        'RF': RF(random_state=SEED)}\n",
    "\n",
    "parameters={'KNN':{'n_neighbors':[i for i in range(3,50)]}, \n",
    "           'DT':{'max_depth':[i for i in range(1,30)]}, \n",
    "           'SVC':{'kernel':['linear', 'poly',' rbf'], 'C':[i for i in range(101)],\n",
    "                  'tol':[0.0001, 0.001, 0.01, 0.1], 'gamma':['scale','auto']},\n",
    "           'RF':{'n_estimators':[i for i in range(10,100)],  \n",
    "                'max_depth':[i for i in range(1,30)], 'max_features':[0.1,0.2,0.3,0.4,0.5,0.6,0.7,0.8,0.9,1]}\n",
    "           }"
   ]
  },
  {
   "cell_type": "markdown",
   "id": "a6aadc17",
   "metadata": {},
   "source": [
    "Now we are ready for the **cross validation** procedure:"
   ]
  },
  {
   "cell_type": "code",
   "execution_count": 16,
   "id": "d65cd214",
   "metadata": {},
   "outputs": [
    {
     "name": "stdout",
     "output_type": "stream",
     "text": [
      "The best parameters for KNN are: {'n_neighbors': 18}\n",
      "The best parameters for DT are: {'max_depth': 19}\n",
      "The best parameters for SVC are: {'tol': 0.1, 'kernel': 'linear', 'gamma': 'auto', 'C': 99}\n",
      "The best parameters for RF are: {'n_estimators': 56, 'max_features': 0.1, 'max_depth': 9}\n"
     ]
    }
   ],
   "source": [
    "# cross validation \n",
    "cval={}\n",
    "for model in models.keys():\n",
    "    cval[model]=RSCV(models[model], parameters[model], cv=10, scoring='accuracy')\n",
    "    cval[model].fit(X_train, y_train)\n",
    "    print('The best parameters for '+model+' are: {}'.format(cval[model].best_params_))"
   ]
  },
  {
   "cell_type": "markdown",
   "id": "f41e69d3",
   "metadata": {},
   "source": [
    "After that, we can redefine the models dictionary by replacing the values with the **best models** according to the cross validation."
   ]
  },
  {
   "cell_type": "code",
   "execution_count": 17,
   "id": "494ee0c7",
   "metadata": {},
   "outputs": [],
   "source": [
    "# I redefine the models dictionary by introducing the 'best models' according to the cross validation\n",
    "for model in models.keys():\n",
    "    models[model]=cval[model].best_estimator_"
   ]
  },
  {
   "cell_type": "markdown",
   "id": "fdae49bd",
   "metadata": {},
   "source": [
    "And now we are ready for evaluating the models:"
   ]
  },
  {
   "cell_type": "code",
   "execution_count": 18,
   "id": "5d462738",
   "metadata": {},
   "outputs": [
    {
     "data": {
      "image/png": "[encoded data removed]",
      "text/plain": [
       "<Figure size 1080x576 with 1 Axes>"
      ]
     },
     "metadata": {
      "needs_background": "light"
     },
     "output_type": "display_data"
    }
   ],
   "source": [
    "y_pred, accuracy={},{}\n",
    "\n",
    "for model in models.keys():\n",
    "    y_pred[model]=models[model].predict(X_test)\n",
    "    accuracy[model]=round(accuracy_score(y_test, y_pred[model]),4)\n",
    " \n",
    "plt.figure(figsize=(15,8))\n",
    "ax=pd.Series(accuracy).sort_values().plot(kind='barh', \n",
    "                      title='Models Accuracy for Predicting Fraudulent Credit Card Transactions',\n",
    "                      color=sns.color_palette('winter_r'))\n",
    "\n",
    "for container in ax.containers:\n",
    "    ax.bar_label(container)  \n",
    "    \n",
    "plt.xlabel('Model Accuracy')\n",
    "plt.ylabel('Model')\n",
    "plt.show()"
   ]
  },
  {
   "cell_type": "markdown",
   "id": "2ada7170",
   "metadata": {},
   "source": [
    "### Thus, the best models, i.e. the models with the best accuracy, are DT and RF. The first one has a slightly higher accuracy then the second one. In order to choose between them it might be useful to consider the sensitivities and the specificities of both models. Indeed, these parameters tell us how the models perform on the two different classes and in some situations we might be interested to models with an high performance on a single class. In this situation, for example, we should be more interested in a model with an high performance on the value 'yes', namely a model which has a high performance in recognizing when a transition is a fraud, since it causes fewer problems to block a non fraudulent transaction with respect to not block one that is fraudulent.\n",
    "\n",
    "Hence, for computing the sensitivities and specificities associated with the models we use the classification report:"
   ]
  },
  {
   "cell_type": "code",
   "execution_count": 19,
   "id": "dd78f511",
   "metadata": {},
   "outputs": [
    {
     "data": {
      "text/html": [
       "<div>\n",
       "<style scoped>\n",
       "    .dataframe tbody tr th:only-of-type {\n",
       "        vertical-align: middle;\n",
       "    }\n",
       "\n",
       "    .dataframe tbody tr th {\n",
       "        vertical-align: top;\n",
       "    }\n",
       "\n",
       "    .dataframe thead th {\n",
       "        text-align: right;\n",
       "    }\n",
       "</style>\n",
       "<table border=\"1\" class=\"dataframe\">\n",
       "  <thead>\n",
       "    <tr style=\"text-align: right;\">\n",
       "      <th></th>\n",
       "      <th>precision</th>\n",
       "      <th>recall</th>\n",
       "      <th>f1-score</th>\n",
       "      <th>support</th>\n",
       "    </tr>\n",
       "  </thead>\n",
       "  <tbody>\n",
       "    <tr>\n",
       "      <th>no</th>\n",
       "      <td>0.998033</td>\n",
       "      <td>0.994123</td>\n",
       "      <td>0.996075</td>\n",
       "      <td>1021.000</td>\n",
       "    </tr>\n",
       "    <tr>\n",
       "      <th>yes</th>\n",
       "      <td>0.993896</td>\n",
       "      <td>0.997957</td>\n",
       "      <td>0.995923</td>\n",
       "      <td>979.000</td>\n",
       "    </tr>\n",
       "    <tr>\n",
       "      <th>accuracy</th>\n",
       "      <td>0.996000</td>\n",
       "      <td>0.996000</td>\n",
       "      <td>0.996000</td>\n",
       "      <td>0.996</td>\n",
       "    </tr>\n",
       "    <tr>\n",
       "      <th>macro avg</th>\n",
       "      <td>0.995965</td>\n",
       "      <td>0.996040</td>\n",
       "      <td>0.995999</td>\n",
       "      <td>2000.000</td>\n",
       "    </tr>\n",
       "    <tr>\n",
       "      <th>weighted avg</th>\n",
       "      <td>0.996008</td>\n",
       "      <td>0.996000</td>\n",
       "      <td>0.996000</td>\n",
       "      <td>2000.000</td>\n",
       "    </tr>\n",
       "  </tbody>\n",
       "</table>\n",
       "</div>"
      ],
      "text/plain": [
       "              precision    recall  f1-score   support\n",
       "no             0.998033  0.994123  0.996075  1021.000\n",
       "yes            0.993896  0.997957  0.995923   979.000\n",
       "accuracy       0.996000  0.996000  0.996000     0.996\n",
       "macro avg      0.995965  0.996040  0.995999  2000.000\n",
       "weighted avg   0.996008  0.996000  0.996000  2000.000"
      ]
     },
     "execution_count": 19,
     "metadata": {},
     "output_type": "execute_result"
    }
   ],
   "source": [
    "report={}\n",
    "for model in models.keys():\n",
    "    report[model]=pd.DataFrame(classification_report(y_test, y_pred[model], output_dict=True)).transpose()\n",
    "\n",
    "report['RF']"
   ]
  },
  {
   "cell_type": "code",
   "execution_count": 20,
   "id": "ea4483c4",
   "metadata": {
    "scrolled": false
   },
   "outputs": [
    {
     "data": {
      "image/png": "[encoded data removed]",
      "text/plain": [
       "<Figure size 1440x1296 with 4 Axes>"
      ]
     },
     "metadata": {
      "needs_background": "light"
     },
     "output_type": "display_data"
    }
   ],
   "source": [
    "palettes=['Set2', 'tab10', 'plasma', 'gist_earth']\n",
    "\n",
    "f, axes=plt.subplots(2,2,figsize=(20,18))\n",
    "\n",
    "for i,model in enumerate(['KNN', 'SVC', 'DT', 'RF']):\n",
    "    report[model][['recall', 'precision']].iloc[0:2].plot(kind='bar', title=model+' Sensitivities and Precisions', \n",
    "           rot=0, color=sns.color_palette(palettes[i]), ax=axes[i//2, i%2]);"
   ]
  },
  {
   "cell_type": "markdown",
   "id": "2b5b6cfc",
   "metadata": {},
   "source": [
    "### Let us remember that for the binary classification problems the recall of the 'True' ( or 'yes' in this case) class is the sensitivity of the model, while the recall of the 'False' ( or 'no' in this case) class is the specificity. RF and DT have essentially the same values of sensitivity and specificity. Thus, since DT has a slightly better accuracy, it is simpler and it requires less computational power, and the sensitivities are the same, we choose DT has the best model. \n",
    "\n",
    "In order to conclude the analysis we use the Random Forest feature_importances method for evaluating the most important variables for the RF model. "
   ]
  },
  {
   "cell_type": "code",
   "execution_count": 21,
   "id": "883f8ff3",
   "metadata": {},
   "outputs": [
    {
     "data": {
      "image/png": "[encoded data removed]",
      "text/plain": [
       "<Figure size 1440x720 with 1 Axes>"
      ]
     },
     "metadata": {
      "needs_background": "light"
     },
     "output_type": "display_data"
    }
   ],
   "source": [
    "importances=pd.Series({df.columns[i]: models['RF'].feature_importances_[i] for i in range(df.shape[1]-1)})\n",
    "\n",
    "plt.figure(figsize=(20,10))\n",
    "importances.sort_values().plot(kind='barh', color=sns.color_palette('tab10'), title='Feature Importances According to the RF');"
   ]
  },
  {
   "cell_type": "markdown",
   "id": "0271c03d",
   "metadata": {},
   "source": [
    "### Hence, the Random Forest consider as the most important features:  'ratio_to_median_purchase_price', 'online_order' and 'distance_from_home'. This is in complete agreement with the correlation matrix analysis, that indicates the same variables as the most relevant ones. "
   ]
  },
  {
   "cell_type": "markdown",
   "id": "c1bf6df1",
   "metadata": {},
   "source": [
    "# DT performance on a gigantic balanced dataset"
   ]
  },
  {
   "cell_type": "markdown",
   "id": "0c044518",
   "metadata": {},
   "source": [
    "To conclude the project let us see how the Decision Tree, i.e. the best model for predicting if a transaction is fraudulent, works with a gigantic balanced dataset. In order to build the dataset we define a dataframe df_tot, which contains 1 million fraudulent transaction and 1 million not fraudulent ones. The latter is created by adding to the dataframe df other 1 million data, randomly selected from df itself, in a way that guarantees the perfect balancing of the dataframe. <br>\n",
    "\n",
    "Let us start by defining two dataframes, df_no_fraud and df_yes_fraud, which contains 1 million non fraudulent and 1 million fraudulent transactions respectively, and then we create the dataframe df_tot by merging these two dataframes. "
   ]
  },
  {
   "cell_type": "code",
   "execution_count": 22,
   "id": "1be161f6",
   "metadata": {},
   "outputs": [
    {
     "data": {
      "text/html": [
       "<div>\n",
       "<style scoped>\n",
       "    .dataframe tbody tr th:only-of-type {\n",
       "        vertical-align: middle;\n",
       "    }\n",
       "\n",
       "    .dataframe tbody tr th {\n",
       "        vertical-align: top;\n",
       "    }\n",
       "\n",
       "    .dataframe thead th {\n",
       "        text-align: right;\n",
       "    }\n",
       "</style>\n",
       "<table border=\"1\" class=\"dataframe\">\n",
       "  <thead>\n",
       "    <tr style=\"text-align: right;\">\n",
       "      <th></th>\n",
       "      <th>distance_from_home</th>\n",
       "      <th>distance_from_last_transaction</th>\n",
       "      <th>ratio_to_median_purchase_price</th>\n",
       "      <th>repeat_retailer</th>\n",
       "      <th>used_chip</th>\n",
       "      <th>used_pin_number</th>\n",
       "      <th>online_order</th>\n",
       "      <th>fraud</th>\n",
       "    </tr>\n",
       "  </thead>\n",
       "  <tbody>\n",
       "    <tr>\n",
       "      <th>0</th>\n",
       "      <td>57.877857</td>\n",
       "      <td>0.311140</td>\n",
       "      <td>1.945940</td>\n",
       "      <td>1</td>\n",
       "      <td>1</td>\n",
       "      <td>0</td>\n",
       "      <td>0</td>\n",
       "      <td>no</td>\n",
       "    </tr>\n",
       "    <tr>\n",
       "      <th>1</th>\n",
       "      <td>10.829943</td>\n",
       "      <td>0.175592</td>\n",
       "      <td>1.294219</td>\n",
       "      <td>1</td>\n",
       "      <td>0</td>\n",
       "      <td>0</td>\n",
       "      <td>0</td>\n",
       "      <td>no</td>\n",
       "    </tr>\n",
       "    <tr>\n",
       "      <th>2</th>\n",
       "      <td>5.091079</td>\n",
       "      <td>0.805153</td>\n",
       "      <td>0.427715</td>\n",
       "      <td>1</td>\n",
       "      <td>0</td>\n",
       "      <td>0</td>\n",
       "      <td>1</td>\n",
       "      <td>no</td>\n",
       "    </tr>\n",
       "    <tr>\n",
       "      <th>3</th>\n",
       "      <td>2.247564</td>\n",
       "      <td>5.600044</td>\n",
       "      <td>0.362663</td>\n",
       "      <td>1</td>\n",
       "      <td>1</td>\n",
       "      <td>0</td>\n",
       "      <td>1</td>\n",
       "      <td>no</td>\n",
       "    </tr>\n",
       "    <tr>\n",
       "      <th>4</th>\n",
       "      <td>44.190936</td>\n",
       "      <td>0.566486</td>\n",
       "      <td>2.222767</td>\n",
       "      <td>1</td>\n",
       "      <td>1</td>\n",
       "      <td>0</td>\n",
       "      <td>1</td>\n",
       "      <td>no</td>\n",
       "    </tr>\n",
       "    <tr>\n",
       "      <th>...</th>\n",
       "      <td>...</td>\n",
       "      <td>...</td>\n",
       "      <td>...</td>\n",
       "      <td>...</td>\n",
       "      <td>...</td>\n",
       "      <td>...</td>\n",
       "      <td>...</td>\n",
       "      <td>...</td>\n",
       "    </tr>\n",
       "    <tr>\n",
       "      <th>350169</th>\n",
       "      <td>2.830324</td>\n",
       "      <td>4.475900</td>\n",
       "      <td>0.467174</td>\n",
       "      <td>1</td>\n",
       "      <td>0</td>\n",
       "      <td>1</td>\n",
       "      <td>1</td>\n",
       "      <td>no</td>\n",
       "    </tr>\n",
       "    <tr>\n",
       "      <th>755613</th>\n",
       "      <td>2.875827</td>\n",
       "      <td>0.321683</td>\n",
       "      <td>0.424724</td>\n",
       "      <td>1</td>\n",
       "      <td>0</td>\n",
       "      <td>0</td>\n",
       "      <td>1</td>\n",
       "      <td>no</td>\n",
       "    </tr>\n",
       "    <tr>\n",
       "      <th>126084</th>\n",
       "      <td>35.958976</td>\n",
       "      <td>1.085962</td>\n",
       "      <td>3.918046</td>\n",
       "      <td>1</td>\n",
       "      <td>0</td>\n",
       "      <td>0</td>\n",
       "      <td>0</td>\n",
       "      <td>no</td>\n",
       "    </tr>\n",
       "    <tr>\n",
       "      <th>116765</th>\n",
       "      <td>14.647150</td>\n",
       "      <td>1.630556</td>\n",
       "      <td>1.128229</td>\n",
       "      <td>1</td>\n",
       "      <td>1</td>\n",
       "      <td>0</td>\n",
       "      <td>1</td>\n",
       "      <td>no</td>\n",
       "    </tr>\n",
       "    <tr>\n",
       "      <th>440677</th>\n",
       "      <td>4.797686</td>\n",
       "      <td>1.405722</td>\n",
       "      <td>3.128509</td>\n",
       "      <td>1</td>\n",
       "      <td>1</td>\n",
       "      <td>0</td>\n",
       "      <td>1</td>\n",
       "      <td>no</td>\n",
       "    </tr>\n",
       "  </tbody>\n",
       "</table>\n",
       "<p>1000000 rows × 8 columns</p>\n",
       "</div>"
      ],
      "text/plain": [
       "        distance_from_home  distance_from_last_transaction  \\\n",
       "0                57.877857                        0.311140   \n",
       "1                10.829943                        0.175592   \n",
       "2                 5.091079                        0.805153   \n",
       "3                 2.247564                        5.600044   \n",
       "4                44.190936                        0.566486   \n",
       "...                    ...                             ...   \n",
       "350169            2.830324                        4.475900   \n",
       "755613            2.875827                        0.321683   \n",
       "126084           35.958976                        1.085962   \n",
       "116765           14.647150                        1.630556   \n",
       "440677            4.797686                        1.405722   \n",
       "\n",
       "        ratio_to_median_purchase_price  repeat_retailer  used_chip  \\\n",
       "0                             1.945940                1          1   \n",
       "1                             1.294219                1          0   \n",
       "2                             0.427715                1          0   \n",
       "3                             0.362663                1          1   \n",
       "4                             2.222767                1          1   \n",
       "...                                ...              ...        ...   \n",
       "350169                        0.467174                1          0   \n",
       "755613                        0.424724                1          0   \n",
       "126084                        3.918046                1          0   \n",
       "116765                        1.128229                1          1   \n",
       "440677                        3.128509                1          1   \n",
       "\n",
       "        used_pin_number  online_order fraud  \n",
       "0                     0             0    no  \n",
       "1                     0             0    no  \n",
       "2                     0             1    no  \n",
       "3                     0             1    no  \n",
       "4                     0             1    no  \n",
       "...                 ...           ...   ...  \n",
       "350169                1             1    no  \n",
       "755613                0             1    no  \n",
       "126084                0             0    no  \n",
       "116765                0             1    no  \n",
       "440677                0             1    no  \n",
       "\n",
       "[1000000 rows x 8 columns]"
      ]
     },
     "execution_count": 22,
     "metadata": {},
     "output_type": "execute_result"
    }
   ],
   "source": [
    "df_no_fraud=df[df.fraud=='no'].append(df[df.fraud=='no'].iloc[np.random.randint(df[df.fraud=='no'].shape[0], \n",
    "                    size=df.shape[0]-df[df.fraud=='no'].shape[0])])\n",
    "df_no_fraud"
   ]
  },
  {
   "cell_type": "code",
   "execution_count": 23,
   "id": "9cef9102",
   "metadata": {},
   "outputs": [
    {
     "data": {
      "text/html": [
       "<div>\n",
       "<style scoped>\n",
       "    .dataframe tbody tr th:only-of-type {\n",
       "        vertical-align: middle;\n",
       "    }\n",
       "\n",
       "    .dataframe tbody tr th {\n",
       "        vertical-align: top;\n",
       "    }\n",
       "\n",
       "    .dataframe thead th {\n",
       "        text-align: right;\n",
       "    }\n",
       "</style>\n",
       "<table border=\"1\" class=\"dataframe\">\n",
       "  <thead>\n",
       "    <tr style=\"text-align: right;\">\n",
       "      <th></th>\n",
       "      <th>distance_from_home</th>\n",
       "      <th>distance_from_last_transaction</th>\n",
       "      <th>ratio_to_median_purchase_price</th>\n",
       "      <th>repeat_retailer</th>\n",
       "      <th>used_chip</th>\n",
       "      <th>used_pin_number</th>\n",
       "      <th>online_order</th>\n",
       "      <th>fraud</th>\n",
       "    </tr>\n",
       "  </thead>\n",
       "  <tbody>\n",
       "    <tr>\n",
       "      <th>13</th>\n",
       "      <td>2.131956</td>\n",
       "      <td>56.372401</td>\n",
       "      <td>6.358667</td>\n",
       "      <td>1</td>\n",
       "      <td>0</td>\n",
       "      <td>0</td>\n",
       "      <td>1</td>\n",
       "      <td>yes</td>\n",
       "    </tr>\n",
       "    <tr>\n",
       "      <th>24</th>\n",
       "      <td>3.803057</td>\n",
       "      <td>67.241081</td>\n",
       "      <td>1.872950</td>\n",
       "      <td>1</td>\n",
       "      <td>0</td>\n",
       "      <td>0</td>\n",
       "      <td>1</td>\n",
       "      <td>yes</td>\n",
       "    </tr>\n",
       "    <tr>\n",
       "      <th>29</th>\n",
       "      <td>15.694986</td>\n",
       "      <td>175.989182</td>\n",
       "      <td>0.855623</td>\n",
       "      <td>1</td>\n",
       "      <td>0</td>\n",
       "      <td>0</td>\n",
       "      <td>1</td>\n",
       "      <td>yes</td>\n",
       "    </tr>\n",
       "    <tr>\n",
       "      <th>35</th>\n",
       "      <td>26.711462</td>\n",
       "      <td>1.552008</td>\n",
       "      <td>4.603601</td>\n",
       "      <td>1</td>\n",
       "      <td>1</td>\n",
       "      <td>0</td>\n",
       "      <td>1</td>\n",
       "      <td>yes</td>\n",
       "    </tr>\n",
       "    <tr>\n",
       "      <th>36</th>\n",
       "      <td>10.664474</td>\n",
       "      <td>1.565769</td>\n",
       "      <td>4.886521</td>\n",
       "      <td>1</td>\n",
       "      <td>0</td>\n",
       "      <td>0</td>\n",
       "      <td>1</td>\n",
       "      <td>yes</td>\n",
       "    </tr>\n",
       "    <tr>\n",
       "      <th>...</th>\n",
       "      <td>...</td>\n",
       "      <td>...</td>\n",
       "      <td>...</td>\n",
       "      <td>...</td>\n",
       "      <td>...</td>\n",
       "      <td>...</td>\n",
       "      <td>...</td>\n",
       "      <td>...</td>\n",
       "    </tr>\n",
       "    <tr>\n",
       "      <th>904611</th>\n",
       "      <td>4.226941</td>\n",
       "      <td>94.041154</td>\n",
       "      <td>7.716440</td>\n",
       "      <td>1</td>\n",
       "      <td>1</td>\n",
       "      <td>0</td>\n",
       "      <td>1</td>\n",
       "      <td>yes</td>\n",
       "    </tr>\n",
       "    <tr>\n",
       "      <th>523557</th>\n",
       "      <td>1.180507</td>\n",
       "      <td>28.707863</td>\n",
       "      <td>6.015550</td>\n",
       "      <td>0</td>\n",
       "      <td>0</td>\n",
       "      <td>0</td>\n",
       "      <td>0</td>\n",
       "      <td>yes</td>\n",
       "    </tr>\n",
       "    <tr>\n",
       "      <th>240601</th>\n",
       "      <td>16.209810</td>\n",
       "      <td>0.442036</td>\n",
       "      <td>7.973433</td>\n",
       "      <td>1</td>\n",
       "      <td>0</td>\n",
       "      <td>0</td>\n",
       "      <td>1</td>\n",
       "      <td>yes</td>\n",
       "    </tr>\n",
       "    <tr>\n",
       "      <th>566622</th>\n",
       "      <td>150.009673</td>\n",
       "      <td>0.325771</td>\n",
       "      <td>0.167257</td>\n",
       "      <td>1</td>\n",
       "      <td>0</td>\n",
       "      <td>0</td>\n",
       "      <td>1</td>\n",
       "      <td>yes</td>\n",
       "    </tr>\n",
       "    <tr>\n",
       "      <th>93625</th>\n",
       "      <td>37.350811</td>\n",
       "      <td>50.547978</td>\n",
       "      <td>7.404754</td>\n",
       "      <td>1</td>\n",
       "      <td>0</td>\n",
       "      <td>0</td>\n",
       "      <td>1</td>\n",
       "      <td>yes</td>\n",
       "    </tr>\n",
       "  </tbody>\n",
       "</table>\n",
       "<p>1000000 rows × 8 columns</p>\n",
       "</div>"
      ],
      "text/plain": [
       "        distance_from_home  distance_from_last_transaction  \\\n",
       "13                2.131956                       56.372401   \n",
       "24                3.803057                       67.241081   \n",
       "29               15.694986                      175.989182   \n",
       "35               26.711462                        1.552008   \n",
       "36               10.664474                        1.565769   \n",
       "...                    ...                             ...   \n",
       "904611            4.226941                       94.041154   \n",
       "523557            1.180507                       28.707863   \n",
       "240601           16.209810                        0.442036   \n",
       "566622          150.009673                        0.325771   \n",
       "93625            37.350811                       50.547978   \n",
       "\n",
       "        ratio_to_median_purchase_price  repeat_retailer  used_chip  \\\n",
       "13                            6.358667                1          0   \n",
       "24                            1.872950                1          0   \n",
       "29                            0.855623                1          0   \n",
       "35                            4.603601                1          1   \n",
       "36                            4.886521                1          0   \n",
       "...                                ...              ...        ...   \n",
       "904611                        7.716440                1          1   \n",
       "523557                        6.015550                0          0   \n",
       "240601                        7.973433                1          0   \n",
       "566622                        0.167257                1          0   \n",
       "93625                         7.404754                1          0   \n",
       "\n",
       "        used_pin_number  online_order fraud  \n",
       "13                    0             1   yes  \n",
       "24                    0             1   yes  \n",
       "29                    0             1   yes  \n",
       "35                    0             1   yes  \n",
       "36                    0             1   yes  \n",
       "...                 ...           ...   ...  \n",
       "904611                0             1   yes  \n",
       "523557                0             0   yes  \n",
       "240601                0             1   yes  \n",
       "566622                0             1   yes  \n",
       "93625                 0             1   yes  \n",
       "\n",
       "[1000000 rows x 8 columns]"
      ]
     },
     "execution_count": 23,
     "metadata": {},
     "output_type": "execute_result"
    }
   ],
   "source": [
    "df_yes_fraud=df[df.fraud=='yes'].append(df[df.fraud=='yes'].iloc[np.random.randint(df[df.fraud=='yes'].shape[0], \n",
    "                    size=df.shape[0]-df[df.fraud=='yes'].shape[0])])\n",
    "df_yes_fraud"
   ]
  },
  {
   "cell_type": "code",
   "execution_count": 24,
   "id": "503be90d",
   "metadata": {},
   "outputs": [
    {
     "data": {
      "text/html": [
       "<div>\n",
       "<style scoped>\n",
       "    .dataframe tbody tr th:only-of-type {\n",
       "        vertical-align: middle;\n",
       "    }\n",
       "\n",
       "    .dataframe tbody tr th {\n",
       "        vertical-align: top;\n",
       "    }\n",
       "\n",
       "    .dataframe thead th {\n",
       "        text-align: right;\n",
       "    }\n",
       "</style>\n",
       "<table border=\"1\" class=\"dataframe\">\n",
       "  <thead>\n",
       "    <tr style=\"text-align: right;\">\n",
       "      <th></th>\n",
       "      <th>distance_from_home</th>\n",
       "      <th>distance_from_last_transaction</th>\n",
       "      <th>ratio_to_median_purchase_price</th>\n",
       "      <th>repeat_retailer</th>\n",
       "      <th>used_chip</th>\n",
       "      <th>used_pin_number</th>\n",
       "      <th>online_order</th>\n",
       "      <th>fraud</th>\n",
       "    </tr>\n",
       "  </thead>\n",
       "  <tbody>\n",
       "    <tr>\n",
       "      <th>0</th>\n",
       "      <td>57.877857</td>\n",
       "      <td>0.311140</td>\n",
       "      <td>1.945940</td>\n",
       "      <td>1</td>\n",
       "      <td>1</td>\n",
       "      <td>0</td>\n",
       "      <td>0</td>\n",
       "      <td>no</td>\n",
       "    </tr>\n",
       "    <tr>\n",
       "      <th>1</th>\n",
       "      <td>10.829943</td>\n",
       "      <td>0.175592</td>\n",
       "      <td>1.294219</td>\n",
       "      <td>1</td>\n",
       "      <td>0</td>\n",
       "      <td>0</td>\n",
       "      <td>0</td>\n",
       "      <td>no</td>\n",
       "    </tr>\n",
       "    <tr>\n",
       "      <th>2</th>\n",
       "      <td>5.091079</td>\n",
       "      <td>0.805153</td>\n",
       "      <td>0.427715</td>\n",
       "      <td>1</td>\n",
       "      <td>0</td>\n",
       "      <td>0</td>\n",
       "      <td>1</td>\n",
       "      <td>no</td>\n",
       "    </tr>\n",
       "    <tr>\n",
       "      <th>3</th>\n",
       "      <td>2.247564</td>\n",
       "      <td>5.600044</td>\n",
       "      <td>0.362663</td>\n",
       "      <td>1</td>\n",
       "      <td>1</td>\n",
       "      <td>0</td>\n",
       "      <td>1</td>\n",
       "      <td>no</td>\n",
       "    </tr>\n",
       "    <tr>\n",
       "      <th>4</th>\n",
       "      <td>44.190936</td>\n",
       "      <td>0.566486</td>\n",
       "      <td>2.222767</td>\n",
       "      <td>1</td>\n",
       "      <td>1</td>\n",
       "      <td>0</td>\n",
       "      <td>1</td>\n",
       "      <td>no</td>\n",
       "    </tr>\n",
       "    <tr>\n",
       "      <th>...</th>\n",
       "      <td>...</td>\n",
       "      <td>...</td>\n",
       "      <td>...</td>\n",
       "      <td>...</td>\n",
       "      <td>...</td>\n",
       "      <td>...</td>\n",
       "      <td>...</td>\n",
       "      <td>...</td>\n",
       "    </tr>\n",
       "    <tr>\n",
       "      <th>904611</th>\n",
       "      <td>4.226941</td>\n",
       "      <td>94.041154</td>\n",
       "      <td>7.716440</td>\n",
       "      <td>1</td>\n",
       "      <td>1</td>\n",
       "      <td>0</td>\n",
       "      <td>1</td>\n",
       "      <td>yes</td>\n",
       "    </tr>\n",
       "    <tr>\n",
       "      <th>523557</th>\n",
       "      <td>1.180507</td>\n",
       "      <td>28.707863</td>\n",
       "      <td>6.015550</td>\n",
       "      <td>0</td>\n",
       "      <td>0</td>\n",
       "      <td>0</td>\n",
       "      <td>0</td>\n",
       "      <td>yes</td>\n",
       "    </tr>\n",
       "    <tr>\n",
       "      <th>240601</th>\n",
       "      <td>16.209810</td>\n",
       "      <td>0.442036</td>\n",
       "      <td>7.973433</td>\n",
       "      <td>1</td>\n",
       "      <td>0</td>\n",
       "      <td>0</td>\n",
       "      <td>1</td>\n",
       "      <td>yes</td>\n",
       "    </tr>\n",
       "    <tr>\n",
       "      <th>566622</th>\n",
       "      <td>150.009673</td>\n",
       "      <td>0.325771</td>\n",
       "      <td>0.167257</td>\n",
       "      <td>1</td>\n",
       "      <td>0</td>\n",
       "      <td>0</td>\n",
       "      <td>1</td>\n",
       "      <td>yes</td>\n",
       "    </tr>\n",
       "    <tr>\n",
       "      <th>93625</th>\n",
       "      <td>37.350811</td>\n",
       "      <td>50.547978</td>\n",
       "      <td>7.404754</td>\n",
       "      <td>1</td>\n",
       "      <td>0</td>\n",
       "      <td>0</td>\n",
       "      <td>1</td>\n",
       "      <td>yes</td>\n",
       "    </tr>\n",
       "  </tbody>\n",
       "</table>\n",
       "<p>2000000 rows × 8 columns</p>\n",
       "</div>"
      ],
      "text/plain": [
       "        distance_from_home  distance_from_last_transaction  \\\n",
       "0                57.877857                        0.311140   \n",
       "1                10.829943                        0.175592   \n",
       "2                 5.091079                        0.805153   \n",
       "3                 2.247564                        5.600044   \n",
       "4                44.190936                        0.566486   \n",
       "...                    ...                             ...   \n",
       "904611            4.226941                       94.041154   \n",
       "523557            1.180507                       28.707863   \n",
       "240601           16.209810                        0.442036   \n",
       "566622          150.009673                        0.325771   \n",
       "93625            37.350811                       50.547978   \n",
       "\n",
       "        ratio_to_median_purchase_price  repeat_retailer  used_chip  \\\n",
       "0                             1.945940                1          1   \n",
       "1                             1.294219                1          0   \n",
       "2                             0.427715                1          0   \n",
       "3                             0.362663                1          1   \n",
       "4                             2.222767                1          1   \n",
       "...                                ...              ...        ...   \n",
       "904611                        7.716440                1          1   \n",
       "523557                        6.015550                0          0   \n",
       "240601                        7.973433                1          0   \n",
       "566622                        0.167257                1          0   \n",
       "93625                         7.404754                1          0   \n",
       "\n",
       "        used_pin_number  online_order fraud  \n",
       "0                     0             0    no  \n",
       "1                     0             0    no  \n",
       "2                     0             1    no  \n",
       "3                     0             1    no  \n",
       "4                     0             1    no  \n",
       "...                 ...           ...   ...  \n",
       "904611                0             1   yes  \n",
       "523557                0             0   yes  \n",
       "240601                0             1   yes  \n",
       "566622                0             1   yes  \n",
       "93625                 0             1   yes  \n",
       "\n",
       "[2000000 rows x 8 columns]"
      ]
     },
     "execution_count": 24,
     "metadata": {},
     "output_type": "execute_result"
    }
   ],
   "source": [
    "df_tot=df_no_fraud.append(df_yes_fraud)\n",
    "df_tot"
   ]
  },
  {
   "cell_type": "markdown",
   "id": "60f9f6d6",
   "metadata": {},
   "source": [
    "Now we create the new dataset (X, y), we divide the dataset into the training set (X_train, y_train) and the test set (X_test, y_test) and we use a cross validation procedure for tuning the hyperparameter 'max_depth' on this new dataset. "
   ]
  },
  {
   "cell_type": "code",
   "execution_count": 25,
   "id": "cce291e8",
   "metadata": {},
   "outputs": [
    {
     "name": "stdout",
     "output_type": "stream",
     "text": [
      "the best parameters for DT are: {'max_depth': 41}\n"
     ]
    }
   ],
   "source": [
    "X=scaler().fit_transform(df_tot.drop('fraud', axis=1)) # features\n",
    "y=df_tot['fraud'].values  # labels \n",
    "\n",
    "# training-test splitting \n",
    "SEED=1\n",
    "X_train, X_test, y_train, y_test=train_test_split(X, y, test_size=0.2, random_state=SEED)\n",
    "\n",
    "cval1=RSCV(DT(), {'max_depth':[i for i in range(100)]}, cv=10, scoring='accuracy')\n",
    "cval1.fit(X_train, y_train)\n",
    "print('the best parameters for DT are: {}'.format(cval1.best_params_))"
   ]
  },
  {
   "cell_type": "markdown",
   "id": "637ad720",
   "metadata": {},
   "source": [
    "Lastly, we plot the accuracy, the sensitivity and the specificity of the DT on this new dataset:"
   ]
  },
  {
   "cell_type": "code",
   "execution_count": 26,
   "id": "875917d7",
   "metadata": {},
   "outputs": [
    {
     "data": {
      "image/png": "[encoded data removed]",
      "text/plain": [
       "<Figure size 1080x432 with 1 Axes>"
      ]
     },
     "metadata": {
      "needs_background": "light"
     },
     "output_type": "display_data"
    }
   ],
   "source": [
    "best_model=cval1.best_estimator_ #the DT with max_depth=41\n",
    "\n",
    "report=classification_report(y_test, best_model.predict(X_test), output_dict=True) \n",
    "\n",
    "plt.figure(figsize=(15,6))\n",
    "ax=pd.Series({'Accuracy': report['accuracy'],\n",
    "'Sensitivity': report['yes']['recall'],\n",
    "'Specificity': report['no']['recall']}).plot(kind='barh', title='Accuracy, Sensitivity and Specificity of DT', \n",
    "                                            color=sns.color_palette('gist_earth'))\n",
    "\n",
    "for container in ax.containers:\n",
    "    ax.bar_label(container)  \n",
    "    \n",
    "plt.show()"
   ]
  },
  {
   "cell_type": "markdown",
   "id": "70fad27d",
   "metadata": {},
   "source": [
    "### As we can see the DT has an extremely high performance on this gigantic balanced dataset, with an accuracy of 99.9995%. "
   ]
  },
  {
   "cell_type": "markdown",
   "id": "6f5337ca",
   "metadata": {},
   "source": [
    "# Conclusions\n",
    "\n",
    "### In conclusion:\n",
    "\n",
    "### 1) The model that furnishes the best performance in forecasting if a transaction is fraudulent or not on the small balanced dataset is the Decision Tree (DT), with an accuracy of 99.85%. \n",
    "\n",
    "### 2) The Random Forest indicates that the most important features for predicting if a transaction is fraudulent or not are: 'ratio_to_median_purchase_price', 'online_order' and 'distance_from_home'. This is in complete agreement with the EDA, and in particular with the correlation matrix analysis, which indicates the same variables as the most relevant ones.\n",
    "\n",
    "### 3) The Decision Tree also shows an extremely high performance on the gigantic balanced dataset, which is obtained by adding other randomly selected data to the original dataframe df, with an accuracy of 99.9995%."
   ]
  },
  {
   "cell_type": "code",
   "execution_count": null,
   "id": "9d8ad675",
   "metadata": {},
   "outputs": [],
   "source": []
  },
  {
   "cell_type": "code",
   "execution_count": null,
   "id": "e4023b86",
   "metadata": {},
   "outputs": [],
   "source": []
  }
 ],
 "metadata": {
  "kernelspec": {
   "display_name": "Python 3 (ipykernel)",
   "language": "python",
   "name": "python3"
  },
  "language_info": {
   "codemirror_mode": {
    "name": "ipython",
    "version": 3
   },
   "file_extension": ".py",
   "mimetype": "text/x-python",
   "name": "python",
   "nbconvert_exporter": "python",
   "pygments_lexer": "ipython3",
   "version": "3.9.7"
  }
 },
 "nbformat": 4,
 "nbformat_minor": 5
}
